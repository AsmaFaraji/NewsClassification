{
 "cells": [
  {
   "cell_type": "code",
   "execution_count": 1,
   "metadata": {
    "collapsed": true
   },
   "outputs": [],
   "source": [
    "#-*- coding: utf-8 -*-\n",
    "import sys\n",
    "reload(sys)\n",
    "sys.setdefaultencoding('utf-8')\n",
    "from bs4 import BeautifulSoup\n",
    "import requests\n",
    "import pandas as pd\n",
    "import re\n",
    "from __future__ import unicode_literals\n",
    "from hazm import Normalizer, word_tokenize, sent_tokenize\n",
    "import numpy as np"
   ]
  },
  {
   "cell_type": "code",
   "execution_count": 2,
   "metadata": {
    "collapsed": true
   },
   "outputs": [],
   "source": [
    "address = ['/Users/asma/UpdateNewsDataSet/Accident/', \n",
    "          '/Users/asma/UpdateNewsDataSet/Cultural/',\n",
    "          '/Users/asma/UpdateNewsDataSet/Economic/',\n",
    "          '/Users/asma/UpdateNewsDataSet/Political/',\n",
    "          '/Users/asma/UpdateNewsDataSet/Research/',\n",
    "          '/Users/asma/UpdateNewsDataSet/Science/',\n",
    "          '/Users/asma/UpdateNewsDataSet/Social/',\n",
    "          '/Users/asma/UpdateNewsDataSet/Sport/',\n",
    "          '/Users/asma/UpdateNewsDataSet/State/',\n",
    "          '/Users/asma/UpdateNewsDataSet/World/']\n",
    "mydict = []"
   ]
  },
  {
   "cell_type": "code",
   "execution_count": 3,
   "metadata": {
    "collapsed": true
   },
   "outputs": [],
   "source": [
    "for add in address:\n",
    "    df = pd.read_csv(add + 'eachnewsword.csv')\n",
    "    df.fillna(0,inplace=True)\n",
    "    for row in df.iterrows():\n",
    "        index, data = row\n",
    "        mydict = mydict + list(set(data.tolist()))"
   ]
  },
  {
   "cell_type": "code",
   "execution_count": 4,
   "metadata": {
    "collapsed": true
   },
   "outputs": [],
   "source": [
    "while 0 in mydict:\n",
    "    mydict.remove(0)\n"
   ]
  },
  {
   "cell_type": "code",
   "execution_count": 7,
   "metadata": {
    "collapsed": true
   },
   "outputs": [],
   "source": [
    "mydict = list(set(mydict))\n",
    "col = ['news', 'title', 'label'] + mydict\n",
    "df = pd.DataFrame(columns=col)\n",
    "df.to_csv('mydata.csv',header=True,index=False, encoding='utf-8')"
   ]
  },
  {
   "cell_type": "markdown",
   "metadata": {},
   "source": []
  },
  {
   "cell_type": "code",
   "execution_count": 8,
   "metadata": {
    "collapsed": true
   },
   "outputs": [],
   "source": [
    "for add in address:\n",
    "    newsbody = pd.read_csv(add + 'newsbodytitle.csv')\n",
    "    eachnewsword = df = pd.read_csv(add + 'eachnewsword.csv')\n",
    "    eachnewsword.fillna(0,inplace=True)\n",
    "    j = 0\n",
    "    for row in df.iterrows():\n",
    "        wordfreq = []\n",
    "        index , data = row\n",
    "        data = data.tolist()\n",
    "        for w in mydict:\n",
    "            wordfreq.append(data.count(w))\n",
    "        print len(col)\n",
    "        print len(wordfreq)\n",
    "        wordfreq = newsbody.ix[j].tolist() + [add[24:-1]] +  wordfreq\n",
    "        j = j + 1\n",
    "        df = pd.DataFrame([wordfreq],columns=col)\n",
    "        with open('mydata.csv', 'a') as f:\n",
    "             df.to_csv(f, header=False,index=False, encoding='utf-8')"
   ]
  },
  {
   "cell_type": "code",
   "execution_count": 5,
   "metadata": {
    "collapsed": true
   },
   "outputs": [],
   "source": [
    "df = pd.read_csv('mydata.csv')\n"
   ]
  },
  {
   "cell_type": "code",
   "execution_count": 6,
   "metadata": {
    "collapsed": true
   },
   "outputs": [],
   "source": [
    "variance = df.var()\n"
   ]
  },
  {
   "cell_type": "code",
   "execution_count": 7,
   "metadata": {
    "collapsed": true
   },
   "outputs": [],
   "source": [
    "sorted_variance = variance.sort_values(ascending=False)"
   ]
  },
  {
   "cell_type": "code",
   "execution_count": 8,
   "metadata": {
    "collapsed": true
   },
   "outputs": [],
   "source": [
    "mainwordsbasedonvariance = sorted_variance[0:500]"
   ]
  },
  {
   "cell_type": "code",
   "execution_count": 9,
   "metadata": {
    "collapsed": true
   },
   "outputs": [],
   "source": [
    "mainwordsbasedonvariance_index = mainwordsbasedonvariance.index"
   ]
  },
  {
   "cell_type": "code",
   "execution_count": 29,
   "metadata": {},
   "outputs": [
    {
     "data": {
      "text/plain": [
       "Index([u'تور', u'علم', u'کشور', u'آمریکا', u'تیم', u'بیمار', u'دوچرخه',\n",
       "       u'سوار', u'اسلام', u'اربعین',\n",
       "       ...\n",
       "       u'الکترونیک', u'پیونگ', u'بهره', u'بهترین', u'بندر', u'منافع', u'برتر',\n",
       "       u'شمار', u'باعث', u'وظایف'],\n",
       "      dtype='object', length=500)"
      ]
     },
     "execution_count": 29,
     "metadata": {},
     "output_type": "execute_result"
    }
   ],
   "source": [
    "mainwordsbasedonvariance_index "
   ]
  },
  {
   "cell_type": "code",
   "execution_count": 31,
   "metadata": {},
   "outputs": [
    {
     "data": {
      "text/plain": [
       "pandas.core.indexes.base.Index"
      ]
     },
     "execution_count": 31,
     "metadata": {},
     "output_type": "execute_result"
    }
   ],
   "source": [
    "type(mainwordsbasedonvariance_index)"
   ]
  },
  {
   "cell_type": "code",
   "execution_count": 14,
   "metadata": {
    "collapsed": true
   },
   "outputs": [],
   "source": [
    "#mymaindata= df[['news','title','label'] + mainwordsbasedonvariance_index.tolist() ]\n",
    "mymaindata= df[['label'] + mainwordsbasedonvariance_index.tolist()]"
   ]
  },
  {
   "cell_type": "code",
   "execution_count": 15,
   "metadata": {
    "collapsed": true
   },
   "outputs": [],
   "source": [
    "mymaindata.to_csv('mymaindata2.csv',header=True,index=False, encoding='utf-8')"
   ]
  },
  {
   "cell_type": "code",
   "execution_count": null,
   "metadata": {
    "collapsed": true
   },
   "outputs": [],
   "source": []
  },
  {
   "cell_type": "code",
   "execution_count": null,
   "metadata": {
    "collapsed": true
   },
   "outputs": [],
   "source": []
  },
  {
   "cell_type": "code",
   "execution_count": null,
   "metadata": {
    "collapsed": true
   },
   "outputs": [],
   "source": []
  },
  {
   "cell_type": "code",
   "execution_count": null,
   "metadata": {
    "collapsed": true
   },
   "outputs": [],
   "source": []
  }
 ],
 "metadata": {
  "kernelspec": {
   "display_name": "Python 2",
   "language": "python",
   "name": "python2"
  },
  "language_info": {
   "codemirror_mode": {
    "name": "ipython",
    "version": 2
   },
   "file_extension": ".py",
   "mimetype": "text/x-python",
   "name": "python",
   "nbconvert_exporter": "python",
   "pygments_lexer": "ipython2",
   "version": "2.7.14"
  }
 },
 "nbformat": 4,
 "nbformat_minor": 2
}
