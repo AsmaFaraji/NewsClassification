{
 "cells": [
  {
   "cell_type": "code",
   "execution_count": 1,
   "metadata": {
    "collapsed": true
   },
   "outputs": [],
   "source": [
    "#-*- coding: utf-8 -*-\n",
    "import sys\n",
    "reload(sys)\n",
    "sys.setdefaultencoding('utf-8')\n",
    "from bs4 import BeautifulSoup\n",
    "import requests\n",
    "import pandas as pd\n",
    "import re\n",
    "from __future__ import unicode_literals\n",
    "from hazm import Normalizer, word_tokenize, sent_tokenize\n",
    "import numpy as np"
   ]
  },
  {
   "cell_type": "code",
   "execution_count": 2,
   "metadata": {},
   "outputs": [
    {
     "data": {
      "text/plain": [
       "u'Accident'"
      ]
     },
     "execution_count": 2,
     "metadata": {},
     "output_type": "execute_result"
    }
   ],
   "source": [
    "address = ['/Users/asma/UpdateNewsDataSet/Accident/', \n",
    "          '/Users/asma/UpdateNewsDataSet/Cultural/',\n",
    "          '/Users/asma/UpdateNewsDataSet/Economic/',\n",
    "          '/Users/asma/UpdateNewsDataSet/Political/',\n",
    "          '/Users/asma/UpdateNewsDataSet/Research/',\n",
    "          '/Users/asma/UpdateNewsDataSet/Science/',\n",
    "          '/Users/asma/UpdateNewsDataSet/Social/',\n",
    "          '/Users/asma/UpdateNewsDataSet/Sport/',\n",
    "          '/Users/asma/UpdateNewsDataSet/State/',\n",
    "          '/Users/asma/UpdateNewsDataSet/World/']\n",
    "mydict = []\n",
    "address[0][30:-1]"
   ]
  },
  {
   "cell_type": "code",
   "execution_count": 3,
   "metadata": {
    "collapsed": true
   },
   "outputs": [],
   "source": [
    "for add in address:\n",
    "    df = pd.read_csv(add + 'eachnewsword.csv')\n",
    "    df.fillna(0,inplace=True)\n",
    "    for row in df.iterrows():\n",
    "        index, data = row\n",
    "        mydict = mydict + list(set(data.tolist()))"
   ]
  },
  {
   "cell_type": "code",
   "execution_count": 4,
   "metadata": {
    "collapsed": true
   },
   "outputs": [],
   "source": [
    "while 0 in mydict:\n",
    "    mydict.remove(0)\n"
   ]
  },
  {
   "cell_type": "code",
   "execution_count": 5,
   "metadata": {
    "collapsed": true
   },
   "outputs": [],
   "source": [
    "mydict = list(set(mydict))\n",
    "col = ['news', 'title', 'label'] + mydict\n",
    "df = pd.DataFrame(columns=col)\n",
    "df.to_csv('mydata.csv',header=True,index=False, encoding='utf-8')"
   ]
  },
  {
   "cell_type": "markdown",
   "metadata": {},
   "source": []
  },
  {
   "cell_type": "code",
   "execution_count": 6,
   "metadata": {
    "collapsed": true
   },
   "outputs": [],
   "source": [
    "for add in address:\n",
    "    newsbody = pd.read_csv(add + 'newsbodytitle.csv')\n",
    "    eachnewsword = df = pd.read_csv(add + 'eachnewsword.csv')\n",
    "    eachnewsword.fillna(0,inplace=True)\n",
    "    j = 0\n",
    "    for row in df.iterrows():\n",
    "        wordfreq = []\n",
    "        index , data = row\n",
    "        data = data.tolist()\n",
    "        for w in mydict:\n",
    "            wordfreq.append(data.count(w))\n",
    "        print len(col)\n",
    "        print len(wordfreq)\n",
    "        wordfreq = newsbody.ix[j].tolist() + [add[30:-1]] +  wordfreq\n",
    "        j = j + 1\n",
    "        df = pd.DataFrame([wordfreq],columns=col)\n",
    "        with open('mydata.csv', 'a') as f:\n",
    "             df.to_csv(f, header=False,index=False, encoding='utf-8')"
   ]
  },
  {
   "cell_type": "code",
   "execution_count": 3,
   "metadata": {},
   "outputs": [
    {
     "data": {
      "text/plain": [
       "17696"
      ]
     },
     "execution_count": 3,
     "metadata": {},
     "output_type": "execute_result"
    }
   ],
   "source": [
    "df = pd.read_csv('mydata.csv')\n",
    "len(df.columns)"
   ]
  },
  {
   "cell_type": "code",
   "execution_count": 17,
   "metadata": {
    "collapsed": true
   },
   "outputs": [],
   "source": [
    "variance = df.var()\n"
   ]
  },
  {
   "cell_type": "code",
   "execution_count": 18,
   "metadata": {
    "collapsed": true
   },
   "outputs": [],
   "source": [
    "sorted_variance = variance.sort_values(ascending=False)"
   ]
  },
  {
   "cell_type": "code",
   "execution_count": 19,
   "metadata": {
    "collapsed": true
   },
   "outputs": [],
   "source": [
    "mainwordsbasedonvariance = sorted_variance[0:1000]"
   ]
  },
  {
   "cell_type": "code",
   "execution_count": 20,
   "metadata": {
    "collapsed": true
   },
   "outputs": [],
   "source": [
    "mainwordsbasedonvariance_index = mainwordsbasedonvariance.index"
   ]
  },
  {
   "cell_type": "code",
   "execution_count": 21,
   "metadata": {},
   "outputs": [
    {
     "data": {
      "text/plain": [
       "Index([u'کشور', u'سیاسی', u'دولت', u'تیم', u'اسلام', u'فرهنگ', u'آموزش',\n",
       "       u'آمریکا', u'تور', u'بازار',\n",
       "       ...\n",
       "       u'کبد', u'کارگاه', u'هست', u'گسترده', u'اعتقاد', u'گوشت', u'درآمد',\n",
       "       u'تماس', u'شخصیت', u'آهن'],\n",
       "      dtype='object', length=1000)"
      ]
     },
     "execution_count": 21,
     "metadata": {},
     "output_type": "execute_result"
    }
   ],
   "source": [
    "mainwordsbasedonvariance_index "
   ]
  },
  {
   "cell_type": "code",
   "execution_count": 22,
   "metadata": {},
   "outputs": [
    {
     "data": {
      "text/plain": [
       "pandas.core.indexes.base.Index"
      ]
     },
     "execution_count": 22,
     "metadata": {},
     "output_type": "execute_result"
    }
   ],
   "source": [
    "type(mainwordsbasedonvariance_index)"
   ]
  },
  {
   "cell_type": "code",
   "execution_count": 23,
   "metadata": {
    "collapsed": true
   },
   "outputs": [],
   "source": [
    "#mymaindata= df[['news','title','label'] + mainwordsbasedonvariance_index.tolist() ]\n",
    "mymaindata= df[['label'] + mainwordsbasedonvariance_index.tolist()]"
   ]
  },
  {
   "cell_type": "code",
   "execution_count": 24,
   "metadata": {
    "collapsed": true
   },
   "outputs": [],
   "source": [
    "mymaindata.to_csv('mymain_newsdata2.csv',header=True,index=False, encoding='utf-8')"
   ]
  },
  {
   "cell_type": "code",
   "execution_count": null,
   "metadata": {
    "collapsed": true
   },
   "outputs": [],
   "source": [
    "                    "
   ]
  },
  {
   "cell_type": "code",
   "execution_count": null,
   "metadata": {
    "collapsed": true
   },
   "outputs": [],
   "source": []
  },
  {
   "cell_type": "code",
   "execution_count": null,
   "metadata": {
    "collapsed": true
   },
   "outputs": [],
   "source": []
  },
  {
   "cell_type": "code",
   "execution_count": null,
   "metadata": {
    "collapsed": true
   },
   "outputs": [],
   "source": []
  }
 ],
 "metadata": {
  "kernelspec": {
   "display_name": "Python 2",
   "language": "python",
   "name": "python2"
  },
  "language_info": {
   "codemirror_mode": {
    "name": "ipython",
    "version": 2
   },
   "file_extension": ".py",
   "mimetype": "text/x-python",
   "name": "python",
   "nbconvert_exporter": "python",
   "pygments_lexer": "ipython2",
   "version": "2.7.14"
  }
 },
 "nbformat": 4,
 "nbformat_minor": 2
}
